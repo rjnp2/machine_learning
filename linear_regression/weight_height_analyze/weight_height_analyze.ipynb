{
 "cells": [
  {
   "cell_type": "code",
   "execution_count": 1,
   "metadata": {},
   "outputs": [],
   "source": [
    "import numpy as np\n",
    "import pandas as pd\n",
    "from sklearn import metrics\n",
    "from sklearn.model_selection import train_test_split\n",
    "from sklearn.linear_model import LinearRegression"
   ]
  },
  {
   "cell_type": "code",
   "execution_count": 8,
   "metadata": {},
   "outputs": [
    {
     "name": "stdout",
     "output_type": "stream",
     "text": [
      "data info:\n",
      "<class 'pandas.core.frame.DataFrame'>\n",
      "RangeIndex: 10000 entries, 0 to 9999\n",
      "Data columns (total 3 columns):\n",
      " #   Column  Non-Null Count  Dtype  \n",
      "---  ------  --------------  -----  \n",
      " 0   Gender  10000 non-null  object \n",
      " 1   Height  10000 non-null  float64\n",
      " 2   Weight  10000 non-null  float64\n",
      "dtypes: float64(2), object(1)\n",
      "memory usage: 234.5+ KB\n",
      "\n",
      "data describe:\n",
      "              Height        Weight\n",
      "count  10000.000000  10000.000000\n",
      "mean      66.367560    161.440357\n",
      "std        3.847528     32.108439\n",
      "min       54.263133     64.700127\n",
      "25%       63.505620    135.818051\n",
      "50%       66.318070    161.212928\n",
      "75%       69.174262    187.169525\n",
      "max       78.998742    269.989699\n",
      "\n",
      "data is_null:\n",
      " Gender    0\n",
      "Height    0\n",
      "Weight    0\n",
      "dtype: int64\n"
     ]
    }
   ],
   "source": [
    "# Step 1 - Load data\n",
    "data = pd.read_csv('weight-height.csv',header=0)\n",
    "\n",
    "#Analyze Data\n",
    "print('data info:')\n",
    "data.info()\n",
    "print('\\ndata describe:\\n',data.describe())\n",
    "print('\\ndata is_null:\\n',data.isnull().sum())"
   ]
  },
  {
   "cell_type": "code",
   "execution_count": 9,
   "metadata": {},
   "outputs": [],
   "source": [
    "# Step 3 - Convert Gender to number \n",
    "# Replace directly in dataframe\n",
    "data['Gender'].replace('Female',0, inplace=True)\n",
    "data['Gender'].replace('Male',1, inplace=True)"
   ]
  },
  {
   "cell_type": "code",
   "execution_count": 14,
   "metadata": {},
   "outputs": [
    {
     "data": {
      "text/plain": [
       "array([[<matplotlib.axes._subplots.AxesSubplot object at 0x7f7f61fec950>,\n",
       "        <matplotlib.axes._subplots.AxesSubplot object at 0x7f7f62475550>],\n",
       "       [<matplotlib.axes._subplots.AxesSubplot object at 0x7f7f61b83d50>,\n",
       "        <matplotlib.axes._subplots.AxesSubplot object at 0x7f7f61b46550>]],\n",
       "      dtype=object)"
      ]
     },
     "execution_count": 14,
     "metadata": {},
     "output_type": "execute_result"
    },
    {
     "data": {
      "image/png": "[encoded data removed]",
      "text/plain": [
       "<Figure size 432x288 with 4 Axes>"
      ]
     },
     "metadata": {
      "needs_background": "light"
     },
     "output_type": "display_data"
    }
   ],
   "source": [
    "data.hist()"
   ]
  },
  {
   "cell_type": "code",
   "execution_count": 10,
   "metadata": {},
   "outputs": [],
   "source": [
    "# Step 4 - Split data\n",
    "X_train, X_test, y_train, y_test = train_test_split(data.iloc[:, :-1].values,\n",
    "                                                    data.iloc[:, 2].values,\n",
    "                                                    test_size=0.2,\n",
    "                                                    random_state=0)"
   ]
  },
  {
   "cell_type": "code",
   "execution_count": null,
   "metadata": {},
   "outputs": [],
   "source": []
  },
  {
   "cell_type": "code",
   "execution_count": 16,
   "metadata": {},
   "outputs": [
    {
     "name": "stdout",
     "output_type": "stream",
     "text": [
      "linear regression parameters:  [19.42381689  5.96260976]\n",
      "linear regression score on train:  0.9021035919691243\n",
      "linear regression score on test:  0.9052889824534558\n"
     ]
    }
   ],
   "source": [
    "# Step 5 - creates and Fit linear Regression Model\n",
    "lin_reg = LinearRegression()\n",
    "lin_reg.fit(X_train, y_train)\n",
    "print('linear regression parameters: ',lin_reg.coef_ )\n",
    "print('linear regression score on train: ', lin_reg.score(X_train, y_train))\n",
    "print('linear regression score on test: ', lin_reg.score(X_test, y_test))"
   ]
  },
  {
   "cell_type": "code",
   "execution_count": 17,
   "metadata": {},
   "outputs": [
    {
     "name": "stdout",
     "output_type": "stream",
     "text": [
      "R square =  0.9052889824534558\n",
      "Mean squared Error =  97.87152220196161\n",
      "Mean absolute Error =  7.955916525326745\n"
     ]
    }
   ],
   "source": [
    "# Step 6 - Make Prediction using test data\n",
    "lin_pred = lin_reg.predict(X_test)\n",
    "\n",
    "# Step 7 - Model Accuracy\n",
    "print('R square = ',metrics.r2_score(y_test, lin_pred))\n",
    "print('Mean squared Error = ',metrics.mean_squared_error(y_test, lin_pred))\n",
    "print('Mean absolute Error = ',metrics.mean_absolute_error(y_test, lin_pred))"
   ]
  },
  {
   "cell_type": "code",
   "execution_count": 18,
   "metadata": {},
   "outputs": [
    {
     "name": "stdout",
     "output_type": "stream",
     "text": [
      "My predicted weight =  216.67200869430846\n"
     ]
    }
   ],
   "source": [
    "# Step 8 - Predict my weight\n",
    "my_weight_pred = lin_reg.predict([[1,74]])[0]\n",
    "print('My predicted weight = ',my_weight_pred)"
   ]
  },
  {
   "cell_type": "code",
   "execution_count": null,
   "metadata": {},
   "outputs": [],
   "source": []
  }
 ],
 "metadata": {
  "kernelspec": {
   "display_name": "Python 3",
   "language": "python",
   "name": "python3"
  },
  "language_info": {
   "codemirror_mode": {
    "name": "ipython",
    "version": 3
   },
   "file_extension": ".py",
   "mimetype": "text/x-python",
   "name": "python",
   "nbconvert_exporter": "python",
   "pygments_lexer": "ipython3",
   "version": "3.7.7"
  }
 },
 "nbformat": 4,
 "nbformat_minor": 4
}
